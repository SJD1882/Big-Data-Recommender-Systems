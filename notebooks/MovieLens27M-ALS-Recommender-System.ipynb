{
 "cells": [
  {
   "cell_type": "markdown",
   "metadata": {
    "colab_type": "text",
    "id": "Wm7UBfh_2Njf"
   },
   "source": [
    "***\n",
    "## **<center>Collaborative Filtering Recommender System on MovieLens 27M</center>**\n",
    "\n",
    "### <center> **Data Preprocessing / Exploration, Model Training & Results</center>**\n",
    "\n",
    "**<center>Télécom Paris | MS Big Data | SD 701: Big Data Mining </center>**\n",
    "***\n",
    "\n",
    "<br>\n",
    "\n",
    "This notebook summarizes results from a collaborative filtering recommender system implemented with Spark MLlib: how well it scales and fares (for generating relevant user recommendations) on a new MovieLens 27,000,000 movie ratings dataset."
   ]
  },
  {
   "cell_type": "markdown",
   "metadata": {
    "colab_type": "text",
    "id": "ONqx-tln5t60"
   },
   "source": [
    "# **Configuration**"
   ]
  },
  {
   "cell_type": "markdown",
   "metadata": {
    "colab_type": "text",
    "id": "Uwu0zbsB9T8f"
   },
   "source": [
    "**Install Apache Spark on Colab**\n"
   ]
  },
  {
   "cell_type": "code",
   "execution_count": null,
   "metadata": {
    "colab": {},
    "colab_type": "code",
    "id": "6a5eLWWGhDhr"
   },
   "outputs": [],
   "source": [
    "import os"
   ]
  },
  {
   "cell_type": "markdown",
   "metadata": {
    "colab_type": "text",
    "id": "5Q4A2npnHnCa"
   },
   "source": [
    "The following installs Apache Spark (and its dependencies such as Java JDK 8) for use in Google Colab. Once the Google Colab Session terminates, the following cell must be run again."
   ]
  },
  {
   "cell_type": "code",
   "execution_count": 2,
   "metadata": {
    "colab": {
     "base_uri": "https://localhost:8080/",
     "height": 33
    },
    "colab_type": "code",
    "executionInfo": {
     "elapsed": 27131,
     "status": "ok",
     "timestamp": 1575123099180,
     "user": {
      "displayName": "Sébastien DAVID",
      "photoUrl": "https://lh4.googleusercontent.com/-5ClDRUzQ7U0/AAAAAAAAAAI/AAAAAAAAATg/YFmLqRzbOEE/s64/photo.jpg",
      "userId": "10617684434079600453"
     },
     "user_tz": -60
    },
    "id": "c-5WZgaV5uCu",
    "outputId": "a1678fc4-e567-4d64-c1f6-8da429072b58"
   },
   "outputs": [
    {
     "name": "stdout",
     "output_type": "stream",
     "text": [
      "update-alternatives: using /usr/lib/jvm/java-8-openjdk-amd64/jre/bin/java to provide /usr/bin/java (java) in manual mode\n"
     ]
    }
   ],
   "source": [
    "# Download Java JDK Version 8\n",
    "!apt-get install openjdk-8-jdk-headless -qq > /dev/null\n",
    "\n",
    "# Download and Install Apache Spark (with Findspark)\n",
    "!wget -q http://www-eu.apache.org/dist/spark/spark-2.4.4/spark-2.4.4-bin-hadoop2.7.tgz\n",
    "!tar xf spark-2.4.4-bin-hadoop2.7.tgz\n",
    "!pip install -q findspark\n",
    "\n",
    "# Change Java Version Frim JDK-11 to JDK-8\n",
    "!update-alternatives --set java /usr/lib/jvm/java-8-openjdk-amd64/jre/bin/java\n",
    "\n",
    "# Set Environment Variables\n",
    "os.environ[\"JAVA_HOME\"] = \"/usr/lib/jvm/java-8-openjdk-amd64\"\n",
    "os.environ[\"SPARK_HOME\"] = \"/content/spark-2.4.4-bin-hadoop2.7\""
   ]
  },
  {
   "cell_type": "markdown",
   "metadata": {
    "colab_type": "text",
    "id": "zPcW9o3b9L4w"
   },
   "source": [
    "**Launch Spark Session on Colab**"
   ]
  },
  {
   "cell_type": "code",
   "execution_count": 3,
   "metadata": {
    "colab": {
     "base_uri": "https://localhost:8080/",
     "height": 50
    },
    "colab_type": "code",
    "executionInfo": {
     "elapsed": 4733,
     "status": "ok",
     "timestamp": 1575123105912,
     "user": {
      "displayName": "Sébastien DAVID",
      "photoUrl": "https://lh4.googleusercontent.com/-5ClDRUzQ7U0/AAAAAAAAAAI/AAAAAAAAATg/YFmLqRzbOEE/s64/photo.jpg",
      "userId": "10617684434079600453"
     },
     "user_tz": -60
    },
    "id": "X61iCYAF9L7z",
    "outputId": "f85b48e0-b7a2-4dc2-ccb1-e8c4722ed3e2"
   },
   "outputs": [
    {
     "name": "stdout",
     "output_type": "stream",
     "text": [
      "Master :  local[*]\n",
      "Cores  :  2\n"
     ]
    }
   ],
   "source": [
    "# Findspark for Jupyter Notebook (spark-2.4.4-bin-hadoop2.7)\n",
    "import findspark\n",
    "findspark.init()\n",
    "\n",
    "# Start Apache Spark Session & Context\n",
    "import pyspark\n",
    "from pyspark.sql import SQLContext\n",
    "\n",
    "sc = pyspark.SparkContext(appName='sd701-RecoSys-Models')\n",
    "sqlContext = SQLContext(sc)\n",
    "\n",
    "print('Master : ', sc.master)\n",
    "print('Cores  : ', sc.defaultParallelism)"
   ]
  },
  {
   "cell_type": "code",
   "execution_count": null,
   "metadata": {
    "colab": {},
    "colab_type": "code",
    "id": "Wmz7LXYR93dv"
   },
   "outputs": [],
   "source": [
    "# Required Later\n",
    "sqlContext.sparkSession.conf.set(\"spark.sql.autoBroadcastJoinThreshold\", -1)"
   ]
  },
  {
   "cell_type": "markdown",
   "metadata": {
    "colab_type": "text",
    "id": "q3-BwS116Aj9"
   },
   "source": [
    "**Packages**\n",
    "\n",
    "Only the following packages are available in Google Colab:"
   ]
  },
  {
   "cell_type": "code",
   "execution_count": 5,
   "metadata": {
    "colab": {
     "base_uri": "https://localhost:8080/",
     "height": 303
    },
    "colab_type": "code",
    "executionInfo": {
     "elapsed": 5669,
     "status": "ok",
     "timestamp": 1575123119361,
     "user": {
      "displayName": "Sébastien DAVID",
      "photoUrl": "https://lh4.googleusercontent.com/-5ClDRUzQ7U0/AAAAAAAAAAI/AAAAAAAAATg/YFmLqRzbOEE/s64/photo.jpg",
      "userId": "10617684434079600453"
     },
     "user_tz": -60
    },
    "id": "qMvqZb_H38kk",
    "outputId": "1f559f06-26cb-4700-9141-8b818d08c828"
   },
   "outputs": [
    {
     "name": "stdout",
     "output_type": "stream",
     "text": [
      "Collecting koalas\n",
      "\u001b[?25l  Downloading https://files.pythonhosted.org/packages/0e/be/4a4471fcc2e5114a84709c6791081877d83906b235f4e8e525065d6520ab/koalas-0.22.0-py3-none-any.whl (531kB)\n",
      "\u001b[K     |████████████████████████████████| 532kB 4.8MB/s \n",
      "\u001b[?25hRequirement already satisfied: matplotlib>=3.0.0 in /usr/local/lib/python3.6/dist-packages (from koalas) (3.1.1)\n",
      "Requirement already satisfied: pyarrow>=0.10 in /usr/local/lib/python3.6/dist-packages (from koalas) (0.14.1)\n",
      "Requirement already satisfied: numpy>=1.14 in /usr/local/lib/python3.6/dist-packages (from koalas) (1.17.4)\n",
      "Requirement already satisfied: pandas>=0.23.2 in /usr/local/lib/python3.6/dist-packages (from koalas) (0.25.3)\n",
      "Requirement already satisfied: kiwisolver>=1.0.1 in /usr/local/lib/python3.6/dist-packages (from matplotlib>=3.0.0->koalas) (1.1.0)\n",
      "Requirement already satisfied: python-dateutil>=2.1 in /usr/local/lib/python3.6/dist-packages (from matplotlib>=3.0.0->koalas) (2.6.1)\n",
      "Requirement already satisfied: pyparsing!=2.0.4,!=2.1.2,!=2.1.6,>=2.0.1 in /usr/local/lib/python3.6/dist-packages (from matplotlib>=3.0.0->koalas) (2.4.5)\n",
      "Requirement already satisfied: cycler>=0.10 in /usr/local/lib/python3.6/dist-packages (from matplotlib>=3.0.0->koalas) (0.10.0)\n",
      "Requirement already satisfied: six>=1.0.0 in /usr/local/lib/python3.6/dist-packages (from pyarrow>=0.10->koalas) (1.12.0)\n",
      "Requirement already satisfied: pytz>=2017.2 in /usr/local/lib/python3.6/dist-packages (from pandas>=0.23.2->koalas) (2018.9)\n",
      "Requirement already satisfied: setuptools in /usr/local/lib/python3.6/dist-packages (from kiwisolver>=1.0.1->matplotlib>=3.0.0->koalas) (41.6.0)\n",
      "Installing collected packages: koalas\n",
      "Successfully installed koalas-0.22.0\n"
     ]
    }
   ],
   "source": [
    "!pip install koalas"
   ]
  },
  {
   "cell_type": "code",
   "execution_count": null,
   "metadata": {
    "colab": {},
    "colab_type": "code",
    "id": "gnKsG6DX6Dp7"
   },
   "outputs": [],
   "source": [
    "# Default Packages (available by Default in Google Colab)\n",
    "import math\n",
    "import numpy as np\n",
    "import pandas as pd\n",
    "import matplotlib.pyplot as plt\n",
    "import matplotlib.ticker as ticker\n",
    "import seaborn as sns\n",
    "import random\n",
    "from pprint import pprint\n",
    "from matplotlib.lines import Line2D\n",
    "\n",
    "# Downloaded Packages (not available by Default)\n",
    "import databricks.koalas\n",
    "\n",
    "# PySpark Utilities\n",
    "import pyspark.sql.functions as F\n",
    "from pyspark.sql.types import *\n",
    "from pyspark.ml.recommendation import ALS, ALSModel\n",
    "from pyspark.ml.evaluation import RegressionEvaluator, BinaryClassificationEvaluator\n",
    "from pyspark.ml.tuning import ParamGridBuilder, TrainValidationSplit\n",
    "from pyspark.mllib.evaluation import RegressionMetrics, RankingMetrics\n",
    "\n",
    "# Random Seed\n",
    "SEED = 1492\n",
    "\n",
    "# Set-up\n",
    "plt.style.use('seaborn')"
   ]
  },
  {
   "cell_type": "markdown",
   "metadata": {
    "colab_type": "text",
    "id": "0_Md6FDt6xB9"
   },
   "source": [
    "**Link Google Colab to your personal Google Drive**"
   ]
  },
  {
   "cell_type": "code",
   "execution_count": 8,
   "metadata": {
    "colab": {
     "base_uri": "https://localhost:8080/",
     "height": 33
    },
    "colab_type": "code",
    "executionInfo": {
     "elapsed": 461,
     "status": "ok",
     "timestamp": 1575123138068,
     "user": {
      "displayName": "Sébastien DAVID",
      "photoUrl": "https://lh4.googleusercontent.com/-5ClDRUzQ7U0/AAAAAAAAAAI/AAAAAAAAATg/YFmLqRzbOEE/s64/photo.jpg",
      "userId": "10617684434079600453"
     },
     "user_tz": -60
    },
    "id": "LKJ_dn9K6xGV",
    "outputId": "623a1251-2cbf-41c9-b4a9-9d9ee541a44e"
   },
   "outputs": [
    {
     "name": "stdout",
     "output_type": "stream",
     "text": [
      "Drive already mounted at /content/drive; to attempt to forcibly remount, call drive.mount(\"/content/drive\", force_remount=True).\n"
     ]
    }
   ],
   "source": [
    "from google.colab import drive\n",
    "drive.mount('/content/drive');"
   ]
  },
  {
   "cell_type": "markdown",
   "metadata": {
    "colab_type": "text",
    "id": "c_S99s-6h_x5"
   },
   "source": [
    "Check data location on drive:"
   ]
  },
  {
   "cell_type": "code",
   "execution_count": 9,
   "metadata": {
    "colab": {
     "base_uri": "https://localhost:8080/",
     "height": 33
    },
    "colab_type": "code",
    "executionInfo": {
     "elapsed": 2322,
     "status": "ok",
     "timestamp": 1575123146157,
     "user": {
      "displayName": "Sébastien DAVID",
      "photoUrl": "https://lh4.googleusercontent.com/-5ClDRUzQ7U0/AAAAAAAAAAI/AAAAAAAAATg/YFmLqRzbOEE/s64/photo.jpg",
      "userId": "10617684434079600453"
     },
     "user_tz": -60
    },
    "id": "iMFewAiiPd2M",
    "outputId": "a63e1cd5-cccd-445f-a71b-d5be0682206b"
   },
   "outputs": [
    {
     "name": "stdout",
     "output_type": "stream",
     "text": [
      "MovieLens100K  MovieLens27M  Other\n"
     ]
    }
   ],
   "source": [
    "!ls \"drive/My Drive/TELECOM_MS_BIG_DATA/COURSES/BIG DATA MINING/PROJECT/DATA\""
   ]
  },
  {
   "cell_type": "code",
   "execution_count": null,
   "metadata": {
    "colab": {},
    "colab_type": "code",
    "id": "6dNlMHrpXvDa"
   },
   "outputs": [],
   "source": [
    "# Path to Data Folder\n",
    "DATA_PATH = \"drive/My Drive/TELECOM_MS_BIG_DATA/COURSES/BIG DATA MINING/PROJECT/DATA/MovieLens27M/\"\n",
    "\n",
    "# Path to Results Folder\n",
    "RESULTS_PATH = \"drive/My Drive/TELECOM_MS_BIG_DATA/COURSES/BIG DATA MINING/PROJECT/RESULTS/\""
   ]
  },
  {
   "cell_type": "markdown",
   "metadata": {
    "colab_type": "text",
    "id": "xf35eMcY6D54"
   },
   "source": [
    "# **1. Data Preprocessing**\n",
    "\n",
    "***\n",
    "\n",
    "We consider the following steps:\n",
    "\n",
    "- Casting several string columns into integer columns (required for model training)\n",
    "- Inserting personal IMDb ratings into MovieLens Ratings dataset\n",
    "- For ranking accuracy evaluation : consider any movie rated over the grade of 3 as a relevant movie for the user (thus gets a 1). Otherwise it gets a 0."
   ]
  },
  {
   "cell_type": "code",
   "execution_count": null,
   "metadata": {
    "colab": {},
    "colab_type": "code",
    "id": "acTMS0gsXl8q"
   },
   "outputs": [],
   "source": [
    "class MovieLensDatasets(object):\n",
    "    \"\"\"\n",
    "    Class for loading and preprocesing MovieLens Dataset\n",
    "    \"\"\"\n",
    "    def __init__(self, ratings, movies, links, personalRatings,\n",
    "                 debug=True, debugLimit=10000):\n",
    "    # Load Existing Data\n",
    "    if debug:\n",
    "        debugLimit = debugLimit\n",
    "        ratings = ratings.limit(debugLimit)\n",
    "    else:\n",
    "        ratings = ratings      \n",
    "\n",
    "    self.ratings = ratings\n",
    "    self.movies = movies\n",
    "    self.links = links\n",
    "    self.personalRatings = personalRatings\n",
    "\n",
    "    # Create New DataFrame\n",
    "    users = ratings.select('userId').distinct()\n",
    "    self.users = users\n",
    "\n",
    "    def preprocessing(self):\n",
    "    # Preprocess MovieLens Ratings\n",
    "    self.ratings = self.ratings.withColumn('rating',\n",
    "          F.col('rating').cast('double')).drop('timestamp') \\\n",
    "          .withColumn('userId', F.col('userId').cast('int')) \\\n",
    "          .withColumn('movieId', F.col('movieId').cast('int'))\n",
    "\n",
    "    # Preprocess Personal IMDb Ratings To MovieLens Ratings\n",
    "    self.personalRatings = self.personalRatings.select(['Const',\n",
    "                                                    'Your Rating']) \\\n",
    "          .withColumnRenamed('Const', 'imdbId') \\\n",
    "          .withColumnRenamed('Your Rating', 'personalRating')\n",
    "\n",
    "    self.personalRatings = self.personalRatings \\\n",
    "        .withColumn('personalRating', F.col('personalRating').cast('double')*0.5) \\\n",
    "        .withColumn('imdbId', F.expr(\"substr(imdbId, 3)\"))\n",
    "\n",
    "    self.personalRatings = self.personalRatings.join(\n",
    "        self.links.select('movieId', 'imdbId'), ['imdbId'], how='inner')\n",
    "\n",
    "    # Insert IMDb Ratings into MovieLens Ratings Dataset\n",
    "    self.personalRatings = self.personalRatings \\\n",
    "                        .withColumn('userId', F.lit('0'))\n",
    "    self.personalRatings = self.personalRatings \\\n",
    "                        .select(['userId', 'movieId', 'personalRating']) \\\n",
    "                        .toDF('userId', 'movieId', 'rating')\n",
    "    self.ratings = self.ratings.union(self.personalRatings)\n",
    "\n",
    "    # Binarize MovieLens Ratings (if rating >= 3.0, then 1.0, else 0.0)\n",
    "    udf_scale_ratings = F.udf(lambda x: x - 2.5, DoubleType())\n",
    "    udf_binary_ratings = F.udf(lambda x: 1.0 if x > 0.0 else 0.0, DoubleType())\n",
    "\n",
    "    self.ratings = self.ratings \\\n",
    "    .withColumn('ratingsScaled', udf_scale_ratings(F.col('rating'))) \\\n",
    "    .withColumn('ratingsBinary', udf_binary_ratings(F.col('ratingsScaled')))\n",
    "\n",
    "    def get_ratings(self):\n",
    "        return self.ratings\n",
    "\n",
    "    def get_movies(self):\n",
    "        return self.movies\n",
    "\n",
    "    # Displaying Null Values\n",
    "    def spark_df_display_null_values(sparkDf):\n",
    "        print('NaN values ?')\n",
    "        sparkDf.select([F.count(F.when(F.isnan(c), c)).alias(c) for c in sparkDf.columns]).show()\n",
    "\n",
    "        print('Null values ?')\n",
    "        sparkDf.select([F.count(F.when(F.isnull(c), c)).alias(c) for c in sparkDf.columns]).show()"
   ]
  },
  {
   "cell_type": "markdown",
   "metadata": {
    "colab_type": "text",
    "id": "zVkZJWZR4UCO"
   },
   "source": [
    "Load data:"
   ]
  },
  {
   "cell_type": "code",
   "execution_count": 16,
   "metadata": {
    "colab": {
     "base_uri": "https://localhost:8080/",
     "height": 50
    },
    "colab_type": "code",
    "executionInfo": {
     "elapsed": 2015,
     "status": "ok",
     "timestamp": 1575123314638,
     "user": {
      "displayName": "Sébastien DAVID",
      "photoUrl": "https://lh4.googleusercontent.com/-5ClDRUzQ7U0/AAAAAAAAAAI/AAAAAAAAATg/YFmLqRzbOEE/s64/photo.jpg",
      "userId": "10617684434079600453"
     },
     "user_tz": -60
    },
    "id": "If53HkIBTHw4",
    "outputId": "7ca3d998-1742-4298-a089-7e6148d28002"
   },
   "outputs": [
    {
     "name": "stdout",
     "output_type": "stream",
     "text": [
      "CPU times: user 26.2 ms, sys: 1.69 ms, total: 27.9 ms\n",
      "Wall time: 1.58 s\n"
     ]
    }
   ],
   "source": [
    "%%time\n",
    "# Set to True if only testing\n",
    "# For testing: use debug=True option (subset of all ratings)\n",
    "debug = False\n",
    "\n",
    "# Load Datasets\n",
    "movies = sqlContext \\\n",
    "            .read.format('csv').option(\"header\", \"true\") \\\n",
    "            .load(DATA_PATH + \"movies.csv\")\n",
    "\n",
    "links = sqlContext \\\n",
    "            .read.format('csv').option(\"header\", \"true\") \\\n",
    "            .load(DATA_PATH + \"links.csv\")\n",
    "\n",
    "ratings = sqlContext.read \\\n",
    "            .format('csv').option(\"header\", \"true\") \\\n",
    "            .load(DATA_PATH + \"ratings.csv\")\n",
    "\n",
    "personalRatings = sqlContext \\\n",
    "            .read.format('csv').option(\"header\", \"true\") \\\n",
    "            .load(DATA_PATH + \"Personal_IMBD_Ratings.csv\")\n",
    "\n",
    "\n",
    "# Data Preprocessing\n",
    "movieLensDatasets = MovieLensDatasets(ratings=ratings, movies=movies,\n",
    "                                      links=links,\n",
    "                                      personalRatings=personalRatings,\n",
    "                                      debug=debug)\n",
    "\n",
    "movieLensDatasets.preprocessing()\n",
    "dfRatings = movieLensDatasets.get_ratings() \n",
    "dfMovies = movieLensDatasets.get_movies()"
   ]
  },
  {
   "cell_type": "markdown",
   "metadata": {
    "colab_type": "text",
    "id": "cT50VVVT_rqf"
   },
   "source": [
    "# **2. Exploratory Data Analysis with Koalas**\n",
    "\n",
    "Koalas is a Python library that provides a \"Pandas-like API\" on top of a Spark DataFrame.\n",
    "\n",
    "[GitHub Repository of Koalas](https://github.com/databricks/koalas)"
   ]
  },
  {
   "cell_type": "code",
   "execution_count": null,
   "metadata": {
    "colab": {},
    "colab_type": "code",
    "id": "liVl5hbt_rzJ"
   },
   "outputs": [],
   "source": [
    "dfRatingsKdf = dfRatings.to_koalas()"
   ]
  },
  {
   "cell_type": "code",
   "execution_count": null,
   "metadata": {
    "colab": {
     "base_uri": "https://localhost:8080/",
     "height": 424
    },
    "colab_type": "code",
    "executionInfo": {
     "elapsed": 125519,
     "status": "ok",
     "timestamp": 1573382857395,
     "user": {
      "displayName": "Sébastien DAVID",
      "photoUrl": "https://lh4.googleusercontent.com/-5ClDRUzQ7U0/AAAAAAAAAAI/AAAAAAAAATg/YFmLqRzbOEE/s64/photo.jpg",
      "userId": "10617684434079600453"
     },
     "user_tz": -60
    },
    "id": "OVG93WwiBFgy",
    "outputId": "b324aa8e-350b-4410-8957-961eac01f91a"
   },
   "outputs": [
    {
     "data": {
      "image/png": "[encoded data removed]",
      "text/plain": [
       "<Figure size 864x432 with 1 Axes>"
      ]
     },
     "metadata": {
      "tags": []
     },
     "output_type": "display_data"
    },
    {
     "name": "stdout",
     "output_type": "stream",
     "text": [
      "CPU times: user 499 ms, sys: 39.8 ms, total: 539 ms\n",
      "Wall time: 2min 4s\n"
     ]
    }
   ],
   "source": [
    "%%time\n",
    "f, ax = plt.subplots(figsize=(12,6))\n",
    "userRatingGroup = dfRatingsKdf.groupby(\"userId\")['rating'].count()\n",
    "userRatingGroup.hist(bins=100, color='blue', edgecolor='black',\n",
    "                     linewidth=1.25, alpha=0.78, ax=ax)\n",
    "ax.set_xlabel('Nb. of Ratings per User')\n",
    "ax.set_xlim(0.0)\n",
    "ax.set_xticklabels(['{:,}'.format(int(x)) for x in ax.get_xticks().tolist()])\n",
    "ax.set_yticklabels(['{:,}'.format(int(x)) for x in ax.get_yticks().tolist()])\n",
    "plt.show()"
   ]
  },
  {
   "cell_type": "code",
   "execution_count": null,
   "metadata": {
    "colab": {
     "base_uri": "https://localhost:8080/",
     "height": 423
    },
    "colab_type": "code",
    "executionInfo": {
     "elapsed": 229733,
     "status": "ok",
     "timestamp": 1573382964200,
     "user": {
      "displayName": "Sébastien DAVID",
      "photoUrl": "https://lh4.googleusercontent.com/-5ClDRUzQ7U0/AAAAAAAAAAI/AAAAAAAAATg/YFmLqRzbOEE/s64/photo.jpg",
      "userId": "10617684434079600453"
     },
     "user_tz": -60
    },
    "id": "FShFIYZvJ_Pw",
    "outputId": "1edc4786-c63c-423f-e531-db3217d6e48e"
   },
   "outputs": [
    {
     "data": {
      "image/png": "[encoded data removed]",
      "text/plain": [
       "<Figure size 864x432 with 1 Axes>"
      ]
     },
     "metadata": {
      "tags": []
     },
     "output_type": "display_data"
    },
    {
     "name": "stdout",
     "output_type": "stream",
     "text": [
      "CPU times: user 482 ms, sys: 22.5 ms, total: 504 ms\n",
      "Wall time: 1min 46s\n"
     ]
    }
   ],
   "source": [
    "%%time\n",
    "f, ax = plt.subplots(figsize=(12,6))\n",
    "movieRatingGroup = dfRatingsKdf.groupby(\"movieId\")['rating'].count()\n",
    "movieRatingGroup.hist(bins=100, color='blue', edgecolor='black',\n",
    "                      linewidth=1.25, alpha=0.78, ax=ax)\n",
    "ax.set_xlabel('Nb. of Ratings per Movie')\n",
    "ax.set_xlim(0.0)\n",
    "ax.set_xticklabels(['{:,}'.format(int(x)) for x in ax.get_xticks().tolist()])\n",
    "ax.set_yticklabels(['{:,}'.format(int(x)) for x in ax.get_yticks().tolist()])\n",
    "plt.show()"
   ]
  },
  {
   "cell_type": "code",
   "execution_count": null,
   "metadata": {
    "colab": {
     "base_uri": "https://localhost:8080/",
     "height": 430
    },
    "colab_type": "code",
    "executionInfo": {
     "elapsed": 268572,
     "status": "ok",
     "timestamp": 1573383008749,
     "user": {
      "displayName": "Sébastien DAVID",
      "photoUrl": "https://lh4.googleusercontent.com/-5ClDRUzQ7U0/AAAAAAAAAAI/AAAAAAAAATg/YFmLqRzbOEE/s64/photo.jpg",
      "userId": "10617684434079600453"
     },
     "user_tz": -60
    },
    "id": "yicnszcaOOMN",
    "outputId": "daa74b86-3245-4286-939e-034dbd27a907"
   },
   "outputs": [
    {
     "data": {
      "image/png": "[encoded data removed]",
      "text/plain": [
       "<Figure size 864x432 with 1 Axes>"
      ]
     },
     "metadata": {
      "tags": []
     },
     "output_type": "display_data"
    },
    {
     "name": "stdout",
     "output_type": "stream",
     "text": [
      "CPU times: user 439 ms, sys: 16 ms, total: 455 ms\n",
      "Wall time: 44.3 s\n"
     ]
    }
   ],
   "source": [
    "%%time\n",
    "movieRatingDistGroup = dfRatingsKdf['rating'].value_counts() \\\n",
    "                                             .sort_index() \\\n",
    "                                             .reset_index() \\\n",
    "                                             .to_pandas()\n",
    "\n",
    "# Create Matplotlib Figure\n",
    "fig, ax = plt.subplots(figsize=(12,6))\n",
    "\n",
    "# Main Figure: Seaborn Barplot\n",
    "sns.barplot(data=movieRatingDistGroup, x='index', y='rating',\n",
    "            palette='RdYlGn', edgecolor=\"black\", ax=ax)\n",
    "\n",
    "# Set Xaxis and Yaxis\n",
    "ax.set_xlabel(\"User-Movie Ratings\")\n",
    "ax.set_ylabel('Nb. of Users')\n",
    "ax.xaxis.set_tick_params(rotation=45)\n",
    "\n",
    "# Thousand separator on Yaxis labels\n",
    "ax.set_yticklabels(['{:,}'.format(int(x)) for x in ax.get_yticks().tolist()])\n",
    "\n",
    "# Add percentage text on top of each bar\n",
    "total = float(movieRatingDistGroup['rating'].sum())\n",
    "for p in ax.patches:\n",
    "    height = p.get_height()\n",
    "    ax.text(p.get_x()+p.get_width()/2.,\n",
    "            height+350,\n",
    "            '{0:.0%}'.format(height/total),\n",
    "            ha=\"center\") \n",
    "\n",
    "# Display plot\n",
    "plt.show()"
   ]
  },
  {
   "cell_type": "markdown",
   "metadata": {
    "colab_type": "text",
    "id": "Ni-RFBcRorrH"
   },
   "source": [
    "Inspired by [Recmetrics](https://github.com/statisticianinstilettos/recmetrics/blob/master/recmetrics/plots.py) and adapted to Spark Koalas:"
   ]
  },
  {
   "cell_type": "code",
   "execution_count": null,
   "metadata": {
    "colab": {
     "base_uri": "https://localhost:8080/",
     "height": 428
    },
    "colab_type": "code",
    "executionInfo": {
     "elapsed": 398040,
     "status": "ok",
     "timestamp": 1573383482982,
     "user": {
      "displayName": "Sébastien DAVID",
      "photoUrl": "https://lh4.googleusercontent.com/-5ClDRUzQ7U0/AAAAAAAAAAI/AAAAAAAAATg/YFmLqRzbOEE/s64/photo.jpg",
      "userId": "10617684434079600453"
     },
     "user_tz": -60
    },
    "id": "XJPCgyw-a45z",
    "outputId": "4e8ce663-fbd7-44a1-b5cc-4ddcd9516a71"
   },
   "outputs": [
    {
     "data": {
      "image/png": "[encoded data removed]",
      "text/plain": [
       "<Figure size 864x432 with 1 Axes>"
      ]
     },
     "metadata": {
      "tags": []
     },
     "output_type": "display_data"
    },
    {
     "name": "stdout",
     "output_type": "stream",
     "text": [
      "CPU times: user 1.17 s, sys: 110 ms, total: 1.28 s\n",
      "Wall time: 6min 36s\n"
     ]
    }
   ],
   "source": [
    "%%time\n",
    "f, ax = plt.subplots(figsize=(12,6))\n",
    "\n",
    "# Calculate Cumulative Volumes\n",
    "item_id_column = \"movieId\"\n",
    "volume_df = dfRatingsKdf[item_id_column].value_counts().reset_index()\n",
    "volume_df.columns = [item_id_column, \"volume\"]\n",
    "volume_df[item_id_column] = volume_df[item_id_column].astype(str)\n",
    "volume_df['cumulative_volume'] = volume_df['volume'].cumsum()\n",
    "volume_df['percent_of_total_volume'] = \\\n",
    "    volume_df['cumulative_volume']/volume_df['volume'].sum()\n",
    "\n",
    "# Main\n",
    "temp = volume_df['volume']\n",
    "temp.plot(kind='line', ax=ax, color='black')\n",
    "\n",
    "ax.set_xlim(-15)\n",
    "ax.set_ylim(0.0)\n",
    "ax.set_xticklabels(['{:,}'.format(int(x)) for x in ax.get_xticks().tolist()])\n",
    "ax.set_yticklabels(['{:,}'.format(int(x)) for x in ax.get_yticks().tolist()])\n",
    "ax.set_xlabel('Movie index ordered by decreasing frequency')\n",
    "ax.set_ylabel('Nb. of user ratings received by movie')\n",
    "\n",
    "# Plot vertical line at the tail location\n",
    "percentage = 0.5\n",
    "head = volume_df[volume_df.percent_of_total_volume <= percentage]\n",
    "tail = volume_df[volume_df.percent_of_total_volume > percentage]\n",
    "items_in_head = len(head)\n",
    "items_in_tail = len(tail)\n",
    "\n",
    "plt.axvline(x=items_in_head, color=\"red\",  linestyle='--')\n",
    "\n",
    "# Legend\n",
    "legend_elements = [Line2D([0], [0], marker='o', color='black',\n",
    "                          label=str(items_in_head)+': movies in the head',\n",
    "                          markerfacecolor='green', markersize=5),\n",
    "                    \n",
    "                    Line2D([0], [0], marker='o', color='black',\n",
    "                          label=str(items_in_tail)+': movies in the tail',\n",
    "                          markerfacecolor='red', markersize=5)]\n",
    "ax.legend(handles=legend_elements, loc=1)\n",
    "\n",
    "# Fill area under plot\n",
    "head = head.append(tail.head(1))\n",
    "x1 = head.index.to_pandas().to_numpy() # => changes here from original code\n",
    "y1 = head['volume'].to_pandas()        # => changes here from original code\n",
    "x2 = tail.index.to_pandas().to_numpy() # => changes here from original code\n",
    "y2 = tail['volume'].to_pandas()        # => changes here from original code\n",
    "ax.fill_between(x1, y1, color=\"green\", alpha=0.2)\n",
    "ax.fill_between(x2, y2,  color=\"red\", alpha=0.2)\n",
    "\n",
    "plt.show()"
   ]
  },
  {
   "cell_type": "markdown",
   "metadata": {
    "colab_type": "text",
    "id": "GITHQWpkewlv"
   },
   "source": [
    "# **3. Model Training**\n",
    "***"
   ]
  },
  {
   "cell_type": "markdown",
   "metadata": {
    "colab_type": "text",
    "id": "MAlwONxfcfyg"
   },
   "source": [
    "## **3.1. Train / Test Set Split**"
   ]
  },
  {
   "cell_type": "code",
   "execution_count": null,
   "metadata": {
    "colab": {},
    "colab_type": "code",
    "id": "Q7KL-PwdcdkD"
   },
   "outputs": [],
   "source": [
    "ratingsPrepare = dfRatings.withColumn(\"userId\", F.col(\"userId\").cast('int')) \\\n",
    "                          .withColumn(\"movieId\", F.col(\"movieId\").cast('int'))\n",
    "\n",
    "dfRatingsTrain, dfRatingsTest = ratingsPrepare.randomSplit([0.8, 0.2],\n",
    "                                                           seed=SEED)"
   ]
  },
  {
   "cell_type": "markdown",
   "metadata": {
    "colab_type": "text",
    "id": "897TLMSujDiB"
   },
   "source": [
    "## **3.2. Metrics**\n",
    "\n",
    "Our main goal is to evaluate the *soundness of items recommended by our recommenders systems*. This requires the use of ranking metrics as they are well-suited to this task. Spark ML doesn't provide functions for computing those ranking metrics. They are only available in [Spark MLlib](https://spark.apache.org/docs/2.2.0/mllib-evaluation-metrics.html#ranking-systems) which relies on Resilient Distributed Datasets (RDD) instead of DataFrames.\n",
    "\n",
    "<br>\n",
    "\n",
    "**Explanation**\n",
    "\n",
    "The following metrics implemented in Spark MLlib only work if you treat the recommender system problem as binary: either the algorithm recommended a relevant item or it didn't. It does it through a relevance function.\n",
    "\n",
    "Suppose a user has a list of loved movies $D = \\{ d_1, ..., d_{N} \\}$ (we follow Spark's documented examples and consider that any movie rated over 3 will be deemed relevant). Now our recommender system generated a list of $Q$ movie items $Z=\\{z_1, ..., z_{Q}\\}$. We judge that an item $m$ relevant if:\n",
    "\n",
    "<br>\n",
    "\n",
    "$$ rel_D(z) = \\begin{cases}\n",
    "             1  & \\text{if } z \\in D \\\\\n",
    "             0  & \\text{else}\n",
    "       \\end{cases} $$\n",
    "\n",
    "<br>\n",
    "\n",
    "##### **Precision at rank $k$**\n",
    "\n",
    "Measures (on average for all users) the number of $k$ user-recommended items that are relevant to the user (given his past rating behavior of movies he liked or dislike). The actual ranking of items recommended is not considered.\n",
    "\n",
    "<br>\n",
    "\n",
    "$$ p(k) = \\frac{1}{M} \\sum_{i=0}^{M-1} \\frac{1}{k} \\sum_{j=0}^{\\min(|D|,k)-1} rel_{D_i}(Z_i(j)) $$\n",
    "\n",
    "\n",
    "<br>\n",
    "\n",
    "##### **Normalized Discounted Cumulative Gain at rank $k$**\n",
    "\n",
    "Similar to precision, only this time the actual order of recommended items is taken into consideration during evaluation.\n",
    "\n",
    "<br>\n",
    "\n",
    "$$ NDCG(k) = \\frac{1}{M} \\sum_{i=0}^{M-1} \\frac{1}{IDCG(D_i,k)} \\sum_{j=0}^{n-1} \\frac{rel_{D_i}(Z_i(j))}{\\ln(j+1)}$$\n",
    "\n",
    "$$ n =\\min (\\max(|Z_i|, |D_i|, k)), \\qquad IDCG(D,k) = \\sum_{j=0}^{\\min(|D|,k)-1} \\frac{1}{\\ln(j+1)} $$\n",
    "\n",
    "<br>\n",
    "\n",
    "##### **Root Mean-Squared Error**\n",
    "\n",
    "RMSE will also be reported which is only relevant for collaborative filtering with latent factor models (as it attempts to reconstruct ratings and uses it as it cost function during optimization).\n",
    "\n",
    "<br>\n",
    "\n",
    "$$ RMSE = \\frac{1}{N} \\sum_{i=1}^{N} (y_i - \\hat y_i )^2 $$\n",
    "\n",
    "<br>\n",
    "\n",
    "##### **Catalog Coverage**\n",
    "\n",
    "Implementation from [recmetrics](https://github.com/statisticianinstilettos/recmetrics/blob/master/recmetrics/metrics.py) package.\n",
    "\n",
    "Measures the percentage of movies that are recommended for at the bare minimum one user. Essentially, it tells you how many items of the entire 58,000 movie catalog are actually recommended to our $m$ users by the algorithm. There is a trade-off between between generating relevant recommendations and covering most of the available pool of items.\n",
    "\n",
    "<br>\n",
    "\n",
    "$$ CC = \\frac{|\\cup_{u=1}^m T_u|}{n} $$\n",
    "\n",
    "<br>"
   ]
  },
  {
   "cell_type": "code",
   "execution_count": null,
   "metadata": {
    "colab": {},
    "colab_type": "code",
    "id": "ATuQxfxGjDqS"
   },
   "outputs": [],
   "source": [
    "### Accuracy Metrics\n",
    "def catalog_coverage(predicted, catalog, k):\n",
    "    \"\"\"\n",
    "    Computes the catalog coverage for k lists of recommendations\n",
    "    Parameters\n",
    "    ----------\n",
    "    predicted : a list of lists\n",
    "        Ordered predictions\n",
    "        example: [['X', 'Y', 'Z'], ['X', 'Y', 'Z']]\n",
    "    catalog: list\n",
    "        A list of all unique items in the training data\n",
    "        example: ['A', 'B', 'C', 'X', 'Y', Z]\n",
    "    k: integer\n",
    "        The number of observed recommendation lists\n",
    "        which randomly choosed in our offline setup\n",
    "    Returns\n",
    "    ----------\n",
    "    catalog_coverage:\n",
    "        The catalog coverage of the recommendations as a percent\n",
    "        rounded to 2 decimal places\n",
    "    ----------    \n",
    "    Metric Defintion:\n",
    "    Ge, M., Delgado-Battenfeld, C., & Jannach, D. (2010, September).\n",
    "    Beyond accuracy: evaluating recommender systems by coverage and\n",
    "    serendipity.\n",
    "    In Proceedings of the fourth ACM conference on Recommender systems\n",
    "    (pp. 257-260). ACM.\n",
    "    \"\"\"\n",
    "    sampling = random.choices(predicted, k=k)\n",
    "    predicted_flattened = [p for sublist in sampling for p in sublist]\n",
    "    L_predictions = len(set(predicted_flattened))\n",
    "    catalog_coverage = L_predictions/(len(catalog)*1.0)\n",
    "    return catalog_coverage\n",
    "\n",
    "\n",
    "def get_rec_sys_results(relevantDocumentsDf, dfMovies):\n",
    "    \"\"\"\n",
    "    Returns dictionnary of recommender system metrics\n",
    "    Since Spark ML DataFrame-based doesn't have a\n",
    "    specific function for evaluating the soundness\n",
    "    of item recommendations, we will have to use\n",
    "    Spark MLlib RDD-based API\n",
    "    \"\"\"\n",
    "    # Transform Spark Dataframe into Spark RDD\n",
    "    relevantDocuments = relevantDocumentsDf.rdd \\\n",
    "        .map(lambda row: (row.predictions, row.groundTruth))\n",
    "    \n",
    "    # Get Catalog Coverage\n",
    "    moviesCatalog = dfMovies.select(\"movieId\") \\\n",
    "                            .orderBy(\"movieId\") \\\n",
    "                            .distinct() \\\n",
    "                            .toPandas()\n",
    "    predictions = relevantDocumentsDf.select(\"predictions\").toPandas()\n",
    "    predictionsList = predictions.values.tolist()\n",
    "    predictionsList = [sublist[0] for sublist in predictionsList]\n",
    "    cc = catalog_coverage(predicted=predictionsList,\n",
    "                          catalog=moviesCatalog, k=100)\n",
    "\n",
    "    # Get Results\n",
    "    metrics = RankingMetrics(relevantDocuments)\n",
    "    pk20 = metrics.precisionAt(20)\n",
    "    ndcg20 = metrics.ndcgAt(20)\n",
    "    \n",
    "    results = dict(Pk20=pk20, NDCGk20=ndcg20, CC=cc)\n",
    "    \n",
    "    return results\n",
    "\n",
    "\n",
    "def format_recommendations(rowPreds):\n",
    "    # From recommendations column extract only items\n",
    "    # recommended and ignore ratings\n",
    "    rowPredsList = [row.movieId for row in rowPreds]\n",
    "    return rowPredsList\n",
    "\n",
    "udf_format_recommendations = F.udf(lambda x: format_recommendations(x),\n",
    "                                   ArrayType(IntegerType()))"
   ]
  },
  {
   "cell_type": "markdown",
   "metadata": {
    "colab_type": "text",
    "id": "G7zDCJ0Zkg7Q"
   },
   "source": [
    "## **3.3. Popularity-Based Model**\n",
    "\n",
    "The easiest approach for recommending movies is to simply recommend the most popular ones. This simple approach will act as a benchmark for more complex machine learning models.\n",
    "\n",
    "We will mesure movie popularity here by the average user rating for a given movie. We previously used in our Exploratory Data Analysis notebook the following heuristic:\n",
    "\n",
    "<br>\n",
    "\n",
    "$$ \\mathbf{R} = (R_1, R_2, ..., R_n), \\qquad |\\mathbf{R}| = n$$\n",
    "\n",
    "$$ g(m) = \\frac{1}{|\\mathbf{R}|} \\sum_{r\\in \\mathbf{R}} r, \\qquad \\tilde g(m) = \\log{|\\mathbf{R}|} \\cdot g(m) $$\n",
    "\n",
    "<br>\n",
    "\n",
    "which computes the mean rating for movie while ensuring through a logarithmic scalar that prevents obscure movies from being ranked higher than movies with a much larger viewer reach and thus were rated far more often."
   ]
  },
  {
   "cell_type": "code",
   "execution_count": null,
   "metadata": {
    "colab": {},
    "colab_type": "code",
    "id": "f5sXdGG6l__r"
   },
   "outputs": [],
   "source": [
    "class PopularityRecommenderModel(object):\n",
    "    \"\"\"\n",
    "    Class for generating movie item recommendations based on movie popularity\n",
    "    (from average ratings with logarithmic scaling factor that penalizes movies\n",
    "    with few ratings). By default, only the top 10 rated movies are selected.\n",
    "\n",
    "    Approach studied during MS Big Data's SD 701 Big Data Mining Course.\n",
    "    \"\"\"\n",
    "    def __init__(self, ratingsTrain, ratingsTest):\n",
    "        self.ratingsTrain = ratingsTrain\n",
    "        self.ratingsTest = ratingsTest\n",
    "\n",
    "    def generate_recommendations_for_all_users(self, topk=10):\n",
    "        # Get list of top k rated movies\n",
    "        topRated = self._get_top_k_best_movies(topk=topk)\n",
    "\n",
    "        # Compare most popular movies with user's personal preferences\n",
    "        # Important: only keep recommendations with rating over 3/5\n",
    "        results = self.ratingsTest \\\n",
    "                 .filter(F.col(\"ratingsBinary\")==1.0) \\\n",
    "                 .withColumn('movieId', F.col('movieId').cast('int')) \\\n",
    "                 .orderBy('rating', ascending=False) \\\n",
    "                 .groupby(\"userId\") \\\n",
    "                 .agg(F.collect_list(\"movieId\").alias('groundTruth')) \\\n",
    "                 .withColumn('predictions', F.array([F.lit(el)\n",
    "                        for el in topRated])) \\\n",
    "                 .select(['userId', 'predictions', 'groundTruth'])\n",
    "\n",
    "        return results\n",
    "\n",
    "    def _get_top_k_best_movies(self, topk):\n",
    "\n",
    "    # Function\n",
    "    def _get_mean_rating_w_log_penalty(arr):\n",
    "        sumRatings, nbRatings = arr[0], arr[1]\n",
    "        grade = (sumRatings / nbRatings) * math.log(nbRatings)\n",
    "    return grade\n",
    "\n",
    "    # UDF\n",
    "    udf_mean_rating_w_log_penalty = F.udf(\n",
    "        lambda arr: _get_mean_rating_w_log_penalty(arr),\n",
    "        DoubleType()\n",
    "    )\n",
    "\n",
    "    # Get top k Best Rated Movies\n",
    "    ranking = self.ratingsTrain.groupBy('movieId') \\\n",
    "              .agg({'rating': 'sum', 'userId': 'count'}) \\\n",
    "              .toDF('movieId', 'sumRating', 'nbRatings')\n",
    "\n",
    "    ranking = ranking \\\n",
    "      .withColumn(\"meanLogUserRating\",\n",
    "         udf_mean_rating_w_log_penalty(F.array(\"sumRating\", \"nbRatings\"))\n",
    "         ) \\\n",
    "      .sort(['meanLogUserRating', 'nbRatings'], ascending=[False, True]) \\\n",
    "      .limit(topk)\n",
    "\n",
    "    self.topRatedMovies = ranking\n",
    "    ratingsTop = [int(row.movieId) for row in ranking.collect()]\n",
    "\n",
    "    return ratingsTop"
   ]
  },
  {
   "cell_type": "markdown",
   "metadata": {
    "colab_type": "text",
    "id": "qARt1AfluD9J"
   },
   "source": [
    "<br>\n",
    "\n",
    "Let's generate recommendations for each user based on our **popularity model**:"
   ]
  },
  {
   "cell_type": "code",
   "execution_count": null,
   "metadata": {
    "colab": {
     "base_uri": "https://localhost:8080/",
     "height": 52
    },
    "colab_type": "code",
    "executionInfo": {
     "elapsed": 134670,
     "status": "ok",
     "timestamp": 1573383744211,
     "user": {
      "displayName": "Sébastien DAVID",
      "photoUrl": "https://lh4.googleusercontent.com/-5ClDRUzQ7U0/AAAAAAAAAAI/AAAAAAAAATg/YFmLqRzbOEE/s64/photo.jpg",
      "userId": "10617684434079600453"
     },
     "user_tz": -60
    },
    "id": "ALLPmoMlrSeu",
    "outputId": "dae69c69-9bc8-44ec-c6c2-46841300a798"
   },
   "outputs": [
    {
     "name": "stdout",
     "output_type": "stream",
     "text": [
      "CPU times: user 67.5 ms, sys: 11.3 ms, total: 78.8 ms\n",
      "Wall time: 2min 13s\n"
     ]
    }
   ],
   "source": [
    "%%time\n",
    "pbrModel = PopularityRecommenderModel(dfRatingsTrain, dfRatingsTest)\n",
    "resultsPop = pbrModel.generate_recommendations_for_all_users(topk=20)"
   ]
  },
  {
   "cell_type": "code",
   "execution_count": null,
   "metadata": {
    "colab": {
     "base_uri": "https://localhost:8080/",
     "height": 230
    },
    "colab_type": "code",
    "executionInfo": {
     "elapsed": 252255,
     "status": "ok",
     "timestamp": 1573383996494,
     "user": {
      "displayName": "Sébastien DAVID",
      "photoUrl": "https://lh4.googleusercontent.com/-5ClDRUzQ7U0/AAAAAAAAAAI/AAAAAAAAATg/YFmLqRzbOEE/s64/photo.jpg",
      "userId": "10617684434079600453"
     },
     "user_tz": -60
    },
    "id": "JG0wm7nKuEf2",
    "outputId": "03657fa8-0c88-4520-fdc8-1a8f8bc5b623"
   },
   "outputs": [
    {
     "name": "stdout",
     "output_type": "stream",
     "text": [
      "+------+--------------------+--------------------+\n",
      "|userId|         predictions|         groundTruth|\n",
      "+------+--------------------+--------------------+\n",
      "|   148|[318, 296, 858, 5...|[32, 36, 661, 837...|\n",
      "|   463|[318, 296, 858, 5...|[431, 593, 872, 720]|\n",
      "|   471|[318, 296, 858, 5...|[3252, 3967, 7147...|\n",
      "|   496|[318, 296, 858, 5...|         [3624, 804]|\n",
      "|   833|[318, 296, 858, 5...|[475, 1287, 3256,...|\n",
      "+------+--------------------+--------------------+\n",
      "\n",
      "CPU times: user 50 ms, sys: 10.1 ms, total: 60.1 ms\n",
      "Wall time: 4min 11s\n"
     ]
    }
   ],
   "source": [
    "%%time\n",
    "resultsPop.limit(5).orderBy('userId').show(5)"
   ]
  },
  {
   "cell_type": "code",
   "execution_count": null,
   "metadata": {
    "colab": {
     "base_uri": "https://localhost:8080/",
     "height": 52
    },
    "colab_type": "code",
    "executionInfo": {
     "elapsed": 786545,
     "status": "ok",
     "timestamp": 1573384530962,
     "user": {
      "displayName": "Sébastien DAVID",
      "photoUrl": "https://lh4.googleusercontent.com/-5ClDRUzQ7U0/AAAAAAAAAAI/AAAAAAAAATg/YFmLqRzbOEE/s64/photo.jpg",
      "userId": "10617684434079600453"
     },
     "user_tz": -60
    },
    "id": "iebfkF2mujDO",
    "outputId": "4df153f4-577f-4f21-d1c9-893781bbf004"
   },
   "outputs": [
    {
     "name": "stdout",
     "output_type": "stream",
     "text": [
      "CPU times: user 3.03 s, sys: 172 ms, total: 3.2 s\n",
      "Wall time: 8min 54s\n"
     ]
    }
   ],
   "source": [
    "%%time\n",
    "results = get_rec_sys_results(resultsPop, dfMovies)"
   ]
  },
  {
   "cell_type": "code",
   "execution_count": null,
   "metadata": {
    "colab": {
     "base_uri": "https://localhost:8080/",
     "height": 70
    },
    "colab_type": "code",
    "executionInfo": {
     "elapsed": 786467,
     "status": "ok",
     "timestamp": 1573384530996,
     "user": {
      "displayName": "Sébastien DAVID",
      "photoUrl": "https://lh4.googleusercontent.com/-5ClDRUzQ7U0/AAAAAAAAAAI/AAAAAAAAATg/YFmLqRzbOEE/s64/photo.jpg",
      "userId": "10617684434079600453"
     },
     "user_tz": -60
    },
    "id": "Yo6v2lKZ14gn",
    "outputId": "0175b7b6-f428-4e94-871d-038bec1e6b49"
   },
   "outputs": [
    {
     "name": "stdout",
     "output_type": "stream",
     "text": [
      "{'CC': 0.00034424592929188614,\n",
      " 'NDCGk20': 0.08245820681012826,\n",
      " 'Pk20': 0.049648024344496444}\n"
     ]
    }
   ],
   "source": [
    "pprint(results)"
   ]
  },
  {
   "cell_type": "markdown",
   "metadata": {
    "colab_type": "text",
    "id": "tI0dTKMS68oT"
   },
   "source": [
    "Highest rated movies:"
   ]
  },
  {
   "cell_type": "code",
   "execution_count": null,
   "metadata": {
    "colab": {
     "base_uri": "https://localhost:8080/",
     "height": 497
    },
    "colab_type": "code",
    "executionInfo": {
     "elapsed": 256561,
     "status": "ok",
     "timestamp": 1573384906780,
     "user": {
      "displayName": "Sébastien DAVID",
      "photoUrl": "https://lh4.googleusercontent.com/-5ClDRUzQ7U0/AAAAAAAAAAI/AAAAAAAAATg/YFmLqRzbOEE/s64/photo.jpg",
      "userId": "10617684434079600453"
     },
     "user_tz": -60
    },
    "id": "4D4m49-l68sZ",
    "outputId": "05e64b5a-3a20-423a-cb26-a2bc2cc18ad1"
   },
   "outputs": [
    {
     "name": "stdout",
     "output_type": "stream",
     "text": [
      "+-------+---------+---------+------------------+------------------------------------------------------------------------------+\n",
      "|movieId|sumRating|nbRatings|meanLogUserRating |title                                                                         |\n",
      "+-------+---------+---------+------------------+------------------------------------------------------------------------------+\n",
      "|318    |347016.0 |78423    |49.86835604478385 |Shawshank Redemption, The (1994)                                              |\n",
      "|296    |308882.0 |74013    |46.791560381148095|Pulp Fiction (1994)                                                           |\n",
      "|858    |210826.0 |48639    |46.77876482835748 |Godfather, The (1972)                                                         |\n",
      "|527    |243831.0 |57304    |46.618789047520316|Schindler's List (1993)                                                       |\n",
      "|50     |213594.5 |49783    |46.403714424803205|Usual Suspects, The (1995)                                                    |\n",
      "|593    |292033.5 |70382    |46.31281041145995 |Silence of the Lambs, The (1991)                                              |\n",
      "|2571   |279982.0 |67450    |46.15507155974118 |Matrix, The (1999)                                                            |\n",
      "|2959   |221863.0 |52463    |45.959567428327965|Fight Club (1999)                                                             |\n",
      "|260    |269232.0 |65366    |45.66868301348393 |Star Wars: Episode IV - A New Hope (1977)                                     |\n",
      "|356    |314609.0 |77565    |45.666761127657686|Forrest Gump (1994)                                                           |\n",
      "|1196   |217458.0 |52631    |44.91647681653518 |Star Wars: Episode V - The Empire Strikes Back (1980)                         |\n",
      "|1198   |209211.0 |50775    |44.644697792187   |Raiders of the Lost Ark (Indiana Jones and the Raiders of the Lost Ark) (1981)|\n",
      "|2858   |200577.5 |48693    |44.46000939794107 |American Beauty (1999)                                                        |\n",
      "|4993   |202681.0 |49488    |44.2708804073081  |Lord of the Rings: The Fellowship of the Ring, The (2001)                     |\n",
      "|1221   |132192.0 |30996    |44.10499949160216 |Godfather: Part II, The (1974)                                                |\n",
      "|1193   |143111.0 |33894    |44.04289491449613 |One Flew Over the Cuckoo's Nest (1975)                                        |\n",
      "|7153   |188562.5 |45966    |44.03999421971442 |Lord of the Rings: The Return of the King, The (2003)                         |\n",
      "|608    |179560.0 |43687    |43.91612468565772 |Fargo (1996)                                                                  |\n",
      "|110    |220508.5 |55000    |43.76126881111394 |Braveheart (1995)                                                             |\n",
      "|58559  |149530.0 |35849    |43.742690713775026|Dark Knight, The (2008)                                                       |\n",
      "+-------+---------+---------+------------------+------------------------------------------------------------------------------+\n",
      "\n",
      "CPU times: user 108 ms, sys: 15.7 ms, total: 124 ms\n",
      "Wall time: 4min 15s\n"
     ]
    }
   ],
   "source": [
    "%%time\n",
    "_ = pbrModel.generate_recommendations_for_all_users(topk=20)\n",
    "pbrModel.topRatedMovies \\\n",
    "    .join(dfMovies.select(['movieId', 'title']), 'movieId') \\\n",
    "    .orderBy('meanLogUserRating', ascending=False) \\\n",
    "    .show(20, truncate=False)"
   ]
  },
  {
   "cell_type": "markdown",
   "metadata": {
    "colab_type": "text",
    "id": "03OnANnV0evH"
   },
   "source": [
    "## **3.4. Model-Based Collaborative Filtering**\n",
    "\n",
    "**Collaborative filtering**\n",
    "\n",
    "Such an approach generates recommendations for users by finding other users with similar tastes and hopefully help should those similar users display more varied tastes. CF models are thus completely agnostic of item characteristics, circumventing the need for hand-engineering of features (in contrast to content-based recommender systems). Such model recommendations for users are likely to generate more varied tastes and allow for a user to explore outside of his own usual preferences. Obscure movies however are likely to be ignored.\n",
    "\n",
    "<br>\n",
    "\n",
    "**Matrix Factorization**\n",
    "\n",
    "There exists a number of techniques for implementing CF models. One such method is matrix factorization. Suppose we express our user data as a user-item ratings matrix $R\\in\\mathbb{R}^{m\\times n}$ with $m$ users and $n$ items (movies here) where $R_{i,j}$ denotes a user $i$'s rating for movie $j$. We wish to express this matrix $R$ in a lower dimension product of 2 matrices $U\\in\\mathbb{R}^{m\\times d}$ and $V\\in\\mathbb{R}^{n\\times d}$, a more informative latent structure hidden in the data (e.g. large-scale identification of user similarities) for our recommender system. In order to find this latent structure, we need to minimize the following criterion:\n",
    "\n",
    "<br>\n",
    "\n",
    "$$ \\min_{U\\in\\mathbb{R}^{m \\times d},V\\in\\mathbb{R}^{n\\times d}} \\sum_{i,j} (R_{i,j} - \\langle U_i,V_j \\rangle)^2$$\n",
    "\n",
    "<br>\n",
    "\n",
    "One major challenge of collaborative filtering is data sparcity: as we saw in our Exploratory Data Analysis, the average viewer only watches an infinitesimal amount of films from the available pool of ones. Our ratings matrix $R$ is thus full of missing values.\n",
    "\n",
    "<br>\n",
    "\n",
    "**Alternating Least Squares**\n",
    "\n",
    "This is actually a well-studied problem in the machine learning research community. A highly popular approach is *Weighted Regularization Alternating Least Squares* (ALS-WR). Briefly: \n",
    "\n",
    "- Can easily be distributed (similarly to *Stochastic Gradient Descent*)\n",
    "- Prevents overfitting through Tikhonov regularization\n",
    "- Can easily ignore missing entries (unlike SGD)\n",
    "- Crucially compared to SGD, it displays faster convergence\n",
    "\n",
    "<br>\n",
    "\n",
    "$$ \\min_{U\\in\\mathbb{R}^{m \\times d},V\\in\\mathbb{R}^{n\\times d}} \\sum_{(i,j)|R_{i,j}\\neq 0} (R_{i,j} - \\langle U_i,V_j \\rangle)^2 + \\lambda \\cdot\\Bigl(\\sum_i n_{u_i}\\| U_i \\|^2 + \\sum_j n_{v_j}\\| V_j \\|^2\\Bigl)  $$\n",
    "\n",
    "<br>"
   ]
  },
  {
   "cell_type": "markdown",
   "metadata": {
    "colab_type": "text",
    "id": "tsap2XAaHFFx"
   },
   "source": [
    "### **a) Model Training**\n",
    "\n",
    "An implementation of this algorithm is available in Spark ML."
   ]
  },
  {
   "cell_type": "code",
   "execution_count": 19,
   "metadata": {
    "colab": {
     "base_uri": "https://localhost:8080/",
     "height": 50
    },
    "colab_type": "code",
    "executionInfo": {
     "elapsed": 293378,
     "status": "ok",
     "timestamp": 1575123658314,
     "user": {
      "displayName": "Sébastien DAVID",
      "photoUrl": "https://lh4.googleusercontent.com/-5ClDRUzQ7U0/AAAAAAAAAAI/AAAAAAAAATg/YFmLqRzbOEE/s64/photo.jpg",
      "userId": "10617684434079600453"
     },
     "user_tz": -60
    },
    "id": "K8nGO4lJqwEq",
    "outputId": "4c6a319f-7919-45d7-fa8d-d7af3ceca9bd"
   },
   "outputs": [
    {
     "name": "stdout",
     "output_type": "stream",
     "text": [
      "CPU times: user 96.3 ms, sys: 39.7 ms, total: 136 ms\n",
      "Wall time: 4min 52s\n"
     ]
    }
   ],
   "source": [
    "%%time\n",
    "tempALS = ALS(maxIter=10, rank=10, regParam=0.1, nonnegative=True,\n",
    "              userCol='userId', itemCol='movieId', ratingCol='rating',\n",
    "              coldStartStrategy='drop', implicitPrefs=False, seed=SEED)\n",
    "\n",
    "mlALSFitted = tempALS.fit(dfRatingsTrain)"
   ]
  },
  {
   "cell_type": "code",
   "execution_count": null,
   "metadata": {
    "colab": {},
    "colab_type": "code",
    "id": "g7pl-2fuxXWt"
   },
   "outputs": [],
   "source": [
    "mlALSFitted.save(RESULTS_PATH+\"ALS_MovieLens_27M\")"
   ]
  },
  {
   "cell_type": "code",
   "execution_count": null,
   "metadata": {
    "colab": {},
    "colab_type": "code",
    "id": "Uhz-EyCn4nf4"
   },
   "outputs": [],
   "source": [
    "mlALSFitted = ALSModel.load(RESULTS_PATH+\"ALS_MovieLens_27M\")"
   ]
  },
  {
   "cell_type": "markdown",
   "metadata": {
    "colab_type": "text",
    "id": "wPmUHAJAJX1h"
   },
   "source": [
    "### **b) RMSE**"
   ]
  },
  {
   "cell_type": "markdown",
   "metadata": {
    "colab_type": "text",
    "id": "XW2TvOGfChD7"
   },
   "source": [
    "**RMSE on Test Set**"
   ]
  },
  {
   "cell_type": "code",
   "execution_count": 20,
   "metadata": {
    "colab": {
     "base_uri": "https://localhost:8080/",
     "height": 67
    },
    "colab_type": "code",
    "executionInfo": {
     "elapsed": 137184,
     "status": "ok",
     "timestamp": 1575123893965,
     "user": {
      "displayName": "Sébastien DAVID",
      "photoUrl": "https://lh4.googleusercontent.com/-5ClDRUzQ7U0/AAAAAAAAAAI/AAAAAAAAATg/YFmLqRzbOEE/s64/photo.jpg",
      "userId": "10617684434079600453"
     },
     "user_tz": -60
    },
    "id": "eyZDsTS_sR6-",
    "outputId": "6e228445-b87f-4aae-b7d4-c6e198d2fe1a"
   },
   "outputs": [
    {
     "name": "stdout",
     "output_type": "stream",
     "text": [
      "RMSE (Test Set): 0.8230623329491311\n",
      "CPU times: user 81 ms, sys: 23.5 ms, total: 105 ms\n",
      "Wall time: 2min 16s\n"
     ]
    }
   ],
   "source": [
    "%%time\n",
    "predictions = mlALSFitted.transform(dfRatingsTest)\n",
    "evaluator = RegressionEvaluator(metricName='rmse', labelCol='rating',\n",
    "                                predictionCol='prediction')\n",
    "rmse = evaluator.evaluate(predictions)\n",
    "print('RMSE (Test Set):', rmse)"
   ]
  },
  {
   "cell_type": "markdown",
   "metadata": {
    "colab_type": "text",
    "id": "P-Bi1VtXJbKb"
   },
   "source": [
    "### **c) Evaluating Recommendations**"
   ]
  },
  {
   "cell_type": "code",
   "execution_count": null,
   "metadata": {
    "colab": {},
    "colab_type": "code",
    "id": "YnI412Wh10Ky"
   },
   "outputs": [],
   "source": [
    "resultsALS = mlALSFitted.recommendForAllUsers(20)\n",
    "\n",
    "resultsALS = resultsALS.withColumn('recommendations',\n",
    "              udf_format_recommendations(F.col(\"recommendations\"))) \\\n",
    "              .toDF('userId', 'predictions')"
   ]
  },
  {
   "cell_type": "markdown",
   "metadata": {
    "colab_type": "text",
    "id": "jJ1j0o0G-fdC"
   },
   "source": [
    "Most frequently recommended movies (for our test set):"
   ]
  },
  {
   "cell_type": "code",
   "execution_count": null,
   "metadata": {
    "colab": {},
    "colab_type": "code",
    "id": "hzUm10d-GsSV"
   },
   "outputs": [],
   "source": [
    "resultsALSExpanded = resultsALS \\\n",
    "                        .withColumn(\"movieId\", F.explode(\"predictions\")) \\\n",
    "                        .drop('predictions') \\\n",
    "                        .join(dfMovies, \"movieId\")\n",
    "\n",
    "resultsALSKdf = resultsALSExpanded.to_koalas()\n",
    "\n",
    "MostRecommendedMoviesForAllUsers = resultsALSKdf.groupby([\"movieId\", \"title\"])['userId'].count()\n",
    "MostRecommendedMoviesForAllUsers = MostRecommendedMoviesForAllUsers.sort_values(ascending=False)"
   ]
  },
  {
   "cell_type": "code",
   "execution_count": 26,
   "metadata": {
    "colab": {
     "base_uri": "https://localhost:8080/",
     "height": 417
    },
    "colab_type": "code",
    "executionInfo": {
     "elapsed": 2673342,
     "status": "ok",
     "timestamp": 1575128009751,
     "user": {
      "displayName": "Sébastien DAVID",
      "photoUrl": "https://lh4.googleusercontent.com/-5ClDRUzQ7U0/AAAAAAAAAAI/AAAAAAAAATg/YFmLqRzbOEE/s64/photo.jpg",
      "userId": "10617684434079600453"
     },
     "user_tz": -60
    },
    "id": "q_WvW5K1VP6U",
    "outputId": "eedc532a-d8d1-4405-da8c-3ef66393be1b"
   },
   "outputs": [
    {
     "name": "stdout",
     "output_type": "stream",
     "text": [
      "CPU times: user 4.71 ms, sys: 0 ns, total: 4.71 ms\n",
      "Wall time: 39.3 ms\n"
     ]
    },
    {
     "data": {
      "text/plain": [
       "movieId  title                                                      \n",
       "151989   The Thorn (1971)                                               261925\n",
       "177209   Acı Aşk (2009)                                                 252044\n",
       "183947   NOFX Backstage Passport 2                                      194317\n",
       "159761   Loot (1970)                                                    191602\n",
       "185659   Macho Madness - The Randy Savage Ultimate Collection (2009)    190214\n",
       "157789   .hack Liminality In the Case of Yuki Aihara                    189175\n",
       "157791   .hack Liminality In the Case of Kyoko Tohno                    188893\n",
       "184299   Freedom on My Mind (1994)                                      181605\n",
       "165689   Head Trauma (2006)                                             143214\n",
       "192089   National Theatre Live: One Man, Two Guvnors (2011)             133882\n",
       "144202   Catch That Girl (2002)                                         127746\n",
       "187129   Good Bye, Till Tomorrow (1960)                                 112694\n",
       "187125   Head Above Water (1993)                                        112537\n",
       "149700   Estamos Juntos (2011)                                           99304\n",
       "107252   Island at War (2004)                                            97528\n",
       "107434   Diplomatic Immunity (2009– )                                    97062\n",
       "3226     Hellhounds on My Trail (1999)                                   90852\n",
       "166812   Seeing Red: Stories of American Communists (1983)               87725\n",
       "187951   Father of Lights (2012)                                         83651\n",
       "187949   Furious Love (2010)                                             83310\n",
       "Name: userId, dtype: int64"
      ]
     },
     "execution_count": 26,
     "metadata": {
      "tags": []
     },
     "output_type": "execute_result"
    }
   ],
   "source": [
    "%%time\n",
    "MostRecommendedMoviesForAllUsers.head(20)"
   ]
  },
  {
   "cell_type": "markdown",
   "metadata": {
    "colab_type": "text",
    "id": "DQcEsoU9_Qil"
   },
   "source": [
    "For every user, let's verify if the CF-ALS recommendations are consistent with the user's tastes:"
   ]
  },
  {
   "cell_type": "code",
   "execution_count": null,
   "metadata": {
    "colab": {},
    "colab_type": "code",
    "id": "c-vIkRYfGhty"
   },
   "outputs": [],
   "source": [
    "resultsALS = resultsALS \\\n",
    "                 .join(\n",
    "                 dfRatingsTest \\\n",
    "                 .filter(F.col(\"ratingsBinary\")==1.0) \\\n",
    "                 .withColumn('movieId', F.col('movieId').cast('int')) \\\n",
    "                 .groupby(\"userId\") \\\n",
    "                 .agg(F.collect_list(\"movieId\").alias(\"groundTruth\")),\n",
    "                     'userId'\n",
    "                 )\n",
    "\n",
    "# resultsALS.orderBy('userId').limit(10).show(10)"
   ]
  },
  {
   "cell_type": "code",
   "execution_count": 28,
   "metadata": {
    "colab": {
     "base_uri": "https://localhost:8080/",
     "height": 50
    },
    "colab_type": "code",
    "executionInfo": {
     "elapsed": 2105276,
     "status": "ok",
     "timestamp": 1575130253959,
     "user": {
      "displayName": "Sébastien DAVID",
      "photoUrl": "https://lh4.googleusercontent.com/-5ClDRUzQ7U0/AAAAAAAAAAI/AAAAAAAAATg/YFmLqRzbOEE/s64/photo.jpg",
      "userId": "10617684434079600453"
     },
     "user_tz": -60
    },
    "id": "FsqZ4Qc_Go2M",
    "outputId": "0b9a8073-e36b-488a-f2a1-58f8faa8dc51"
   },
   "outputs": [
    {
     "name": "stdout",
     "output_type": "stream",
     "text": [
      "CPU times: user 2.93 s, sys: 257 ms, total: 3.18 s\n",
      "Wall time: 35min 4s\n"
     ]
    }
   ],
   "source": [
    "%%time\n",
    "resultsALSMetrics = get_rec_sys_results(resultsALS, dfMovies)"
   ]
  },
  {
   "cell_type": "code",
   "execution_count": 30,
   "metadata": {
    "colab": {
     "base_uri": "https://localhost:8080/",
     "height": 67
    },
    "colab_type": "code",
    "executionInfo": {
     "elapsed": 544,
     "status": "ok",
     "timestamp": 1575130483829,
     "user": {
      "displayName": "Sébastien DAVID",
      "photoUrl": "https://lh4.googleusercontent.com/-5ClDRUzQ7U0/AAAAAAAAAAI/AAAAAAAAATg/YFmLqRzbOEE/s64/photo.jpg",
      "userId": "10617684434079600453"
     },
     "user_tz": -60
    },
    "id": "TlsDrAamI-7p",
    "outputId": "e112c438-28b1-4642-b561-9d052dccf736"
   },
   "outputs": [
    {
     "name": "stdout",
     "output_type": "stream",
     "text": [
      "{'CC': 0.004492409377259114,\n",
      " 'NDCGk20': 2.5351364917954605e-06,\n",
      " 'Pk20': 1.5632327653587634e-06}\n"
     ]
    }
   ],
   "source": [
    "pprint(resultsALSMetrics)"
   ]
  },
  {
   "cell_type": "markdown",
   "metadata": {
    "colab_type": "text",
    "id": "z2LAus5x1nQF"
   },
   "source": [
    "## **3.5. Results**"
   ]
  },
  {
   "cell_type": "markdown",
   "metadata": {
    "colab_type": "text",
    "id": "kk6XoP2I8T2J"
   },
   "source": [
    "**Performance Evaluation (Testing Set)**"
   ]
  },
  {
   "cell_type": "code",
   "execution_count": null,
   "metadata": {
    "colab": {},
    "colab_type": "code",
    "id": "VFX4eDxGE55m"
   },
   "outputs": [],
   "source": [
    "results = {'CC': 0.00034424592929188614,\n",
    "           'NDCGk20': 0.08245820681012826,\n",
    "           'Pk20': 0.049648024344496444}"
   ]
  },
  {
   "cell_type": "code",
   "execution_count": null,
   "metadata": {
    "colab": {},
    "colab_type": "code",
    "id": "7BLo3q-JUpk0"
   },
   "outputs": [],
   "source": [
    "results['RMSE'] = 'N/A'\n",
    "resultsALSMetrics['RMSE'] = rmse"
   ]
  },
  {
   "cell_type": "code",
   "execution_count": 33,
   "metadata": {
    "colab": {
     "base_uri": "https://localhost:8080/",
     "height": 167
    },
    "colab_type": "code",
    "executionInfo": {
     "elapsed": 610,
     "status": "ok",
     "timestamp": 1575130493336,
     "user": {
      "displayName": "Sébastien DAVID",
      "photoUrl": "https://lh4.googleusercontent.com/-5ClDRUzQ7U0/AAAAAAAAAAI/AAAAAAAAATg/YFmLqRzbOEE/s64/photo.jpg",
      "userId": "10617684434079600453"
     },
     "user_tz": -60
    },
    "id": "CkJWkFXEiY0G",
    "outputId": "54c8c469-a838-4639-c396-7a38386ff17e"
   },
   "outputs": [
    {
     "data": {
      "text/html": [
       "<div>\n",
       "<style scoped>\n",
       "    .dataframe tbody tr th:only-of-type {\n",
       "        vertical-align: middle;\n",
       "    }\n",
       "\n",
       "    .dataframe tbody tr th {\n",
       "        vertical-align: top;\n",
       "    }\n",
       "\n",
       "    .dataframe thead th {\n",
       "        text-align: right;\n",
       "    }\n",
       "</style>\n",
       "<table border=\"1\" class=\"dataframe\">\n",
       "  <thead>\n",
       "    <tr style=\"text-align: right;\">\n",
       "      <th></th>\n",
       "      <th>PopRec</th>\n",
       "      <th>CF-ALS</th>\n",
       "    </tr>\n",
       "  </thead>\n",
       "  <tbody>\n",
       "    <tr>\n",
       "      <th>CC</th>\n",
       "      <td>0.000344246</td>\n",
       "      <td>0.00449241</td>\n",
       "    </tr>\n",
       "    <tr>\n",
       "      <th>NDCGk20</th>\n",
       "      <td>0.0824582</td>\n",
       "      <td>2.53514e-06</td>\n",
       "    </tr>\n",
       "    <tr>\n",
       "      <th>Pk20</th>\n",
       "      <td>0.049648</td>\n",
       "      <td>1.56323e-06</td>\n",
       "    </tr>\n",
       "    <tr>\n",
       "      <th>RMSE</th>\n",
       "      <td>N/A</td>\n",
       "      <td>0.823062</td>\n",
       "    </tr>\n",
       "  </tbody>\n",
       "</table>\n",
       "</div>"
      ],
      "text/plain": [
       "              PopRec       CF-ALS\n",
       "CC       0.000344246   0.00449241\n",
       "NDCGk20    0.0824582  2.53514e-06\n",
       "Pk20        0.049648  1.56323e-06\n",
       "RMSE             N/A     0.823062"
      ]
     },
     "execution_count": 33,
     "metadata": {
      "tags": []
     },
     "output_type": "execute_result"
    }
   ],
   "source": [
    "modelResults = pd.DataFrame([results, resultsALSMetrics],\n",
    "                             index=['PopRec', 'CF-ALS'])\n",
    "\n",
    "modelResults.transpose()"
   ]
  },
  {
   "cell_type": "markdown",
   "metadata": {
    "colab_type": "text",
    "id": "woIBU8Hi8heP"
   },
   "source": [
    "**Personalized Recommendations from CF-ALS for Myself**"
   ]
  },
  {
   "cell_type": "code",
   "execution_count": 34,
   "metadata": {
    "colab": {
     "base_uri": "https://localhost:8080/",
     "height": 67
    },
    "colab_type": "code",
    "executionInfo": {
     "elapsed": 113370,
     "status": "ok",
     "timestamp": 1575130608543,
     "user": {
      "displayName": "Sébastien DAVID",
      "photoUrl": "https://lh4.googleusercontent.com/-5ClDRUzQ7U0/AAAAAAAAAAI/AAAAAAAAATg/YFmLqRzbOEE/s64/photo.jpg",
      "userId": "10617684434079600453"
     },
     "user_tz": -60
    },
    "id": "5u5P5wd5kEZx",
    "outputId": "0787547c-a267-4c5c-ac73-82a8fedf197e"
   },
   "outputs": [
    {
     "name": "stdout",
     "output_type": "stream",
     "text": [
      "CPU times: user 27.6 ms, sys: 6.98 ms, total: 34.6 ms\n",
      "Wall time: 1min 52s\n"
     ]
    },
    {
     "data": {
      "text/plain": [
       "468"
      ]
     },
     "execution_count": 34,
     "metadata": {
      "tags": []
     },
     "output_type": "execute_result"
    }
   ],
   "source": [
    "%%time\n",
    "dfRatingsTrain.filter(F.col(\"userId\")==0).count()"
   ]
  },
  {
   "cell_type": "code",
   "execution_count": 35,
   "metadata": {
    "colab": {
     "base_uri": "https://localhost:8080/",
     "height": 317
    },
    "colab_type": "code",
    "executionInfo": {
     "elapsed": 1037771,
     "status": "ok",
     "timestamp": 1575131556023,
     "user": {
      "displayName": "Sébastien DAVID",
      "photoUrl": "https://lh4.googleusercontent.com/-5ClDRUzQ7U0/AAAAAAAAAAI/AAAAAAAAATg/YFmLqRzbOEE/s64/photo.jpg",
      "userId": "10617684434079600453"
     },
     "user_tz": -60
    },
    "id": "vWTMkUZEaAq-",
    "outputId": "05823472-b94e-4534-dc3f-7d4e792f50ac"
   },
   "outputs": [
    {
     "name": "stdout",
     "output_type": "stream",
     "text": [
      "+-------------------------------------------------------------------------------------------+------+\n",
      "|title                                                                                      |rating|\n",
      "+-------------------------------------------------------------------------------------------+------+\n",
      "|Head Trauma (2006)                                                                         |null  |\n",
      "|Power of Grayskull: The Definitive History of He-Man and the Masters of the Universe (2017)|null  |\n",
      "|8 Murders a Day (2011)                                                                     |null  |\n",
      "|The Thorn (1971)                                                                           |null  |\n",
      "|I'll Take You There (1999)                                                                 |null  |\n",
      "|Dial H-I-S-T-O-R-Y (1997)                                                                  |null  |\n",
      "|.hack Liminality: In the Case of Mai Minase                                                |null  |\n",
      "|.hack Liminality In the Case of Yuki Aihara                                                |null  |\n",
      "|NOFX Backstage Passport 2                                                                  |null  |\n",
      "|.hack Liminality In the Case of Kyoko Tohno                                                |null  |\n",
      "+-------------------------------------------------------------------------------------------+------+\n",
      "only showing top 10 rows\n",
      "\n",
      "CPU times: user 152 ms, sys: 39.1 ms, total: 191 ms\n",
      "Wall time: 15min 47s\n"
     ]
    }
   ],
   "source": [
    "%%time\n",
    "predictionsPerso = resultsALS.filter(F.col(\"userId\")==0) \\\n",
    "                             .select(F.explode(\"predictions\") \\\n",
    "                             .alias(\"movieId\")) \\\n",
    "                             .join(dfMovies.select([\"movieId\", \"title\"]),\n",
    "                                   \"movieId\") \\\n",
    "                             .join(dfRatings.filter(F.col(\"userId\")==0),\n",
    "                                   ['movieId'], how='left')\n",
    "\n",
    "predictionsPerso.select([\"title\", \"rating\"]).show(10, truncate=False)"
   ]
  },
  {
   "cell_type": "markdown",
   "metadata": {
    "colab_type": "text",
    "id": "m2o8mfGI_xOH"
   },
   "source": [
    "## **3.6. Interpretation**\n",
    "\n",
    "At first glance, our results with our first approach model-based collaborative filtering are mixed. The RMSE on the testing set is 0.0823 which is close to a benchmark result seen in this [arXiv research paper](https://arxiv.org/abs/1606.07659) on a different MovieLens dataset (with 20 million ratings). However, precision and NDCG (for the first 20 recommended items) for CF-ALS on the testing set are a low 0.0003\\% and 0.0002\\% respectively. Our popularity model outperforms CF-ALS significantly on both those metrics. Finally as shown with catalog coverage, both models struggle to recommend most of the available pool of movies to users.\n",
    "\n",
    "One reason why our collaborative filtering model underperforms on precision and NDCG is that accuracy-based metrics are biased in favor of popular items. Our catalog coverage showed that CF-ALS produced more diverse recommendations on average then the popularity-based model. But as the vast majority of movies are almost never rated (known as the long tail of items), CF-ALS has much weaker accuracy as it generates more diverse but less relevant item recommendations (which might be more appealing than recommending the same popular movies).\n",
    "\n",
    "One reason might be that the missing entries (here unrated movies) in our ratings interaction matrix $R$ are actually Missing Not At Random (MNAR): as users can watch any movie they want, the probability of a rating being missing is not at random. Thus, the ratings distribution on the highest rated movies are different from the ratings distribution of movies on the long tail (vast majority). It might be more ideal to compute accuracy metrics separately for the most popular movies and the rest of the movie catalog."
   ]
  },
  {
   "cell_type": "markdown",
   "metadata": {
    "colab_type": "text",
    "id": "2NYZVr86LnGm"
   },
   "source": [
    "# **4. Potential Improvements**\n",
    "\n",
    "For improving the accuracy and interpretability of our collaborative filtering algorithm, we will consider the following improvements:\n",
    "\n",
    "- **Hybrid recommender systems**: the major weakness of collaborative filtering is that by  forgoing the actual characteristics of items (for movies, meta-information such as genres, actor/actresses, director, country of origin) hurts both recommender accuracy and interpretability of recommendations. In practice, industrial recommender systems use hybrid approaches that combine both user similarity (collaborative filtering) and item characteristics (content-based approach). There exists a Python implementation of such a hybrid approach known as LightFM which merits exploration ([LightFM Research Paper](http://ceur-ws.org/Vol-1448/paper4.pdf)).\n",
    "\n",
    "- **Reducing dataset size and user-item segmentation**: one reason why our collaborative filtering model struggled to generate sound recommendations for all users is that our model training included every user (e.g. single rating users, users with few ratings or many ratings). A more ideal strategy would be to segment our ratings data into seperate but homogeneous user datasets and train different recommender systems on those separate data chunks, potentially improving our results."
   ]
  }
 ],
 "metadata": {
  "accelerator": "GPU",
  "colab": {
   "collapsed_sections": [],
   "name": "MovieLens27M-ALS-Recommender-System.ipynb",
   "provenance": [
    {
     "file_id": "1PJf958jhxAVDOV0yLL395dFmzmy7CxNu",
     "timestamp": 1571495303411
    }
   ],
   "toc_visible": true
  },
  "kernelspec": {
   "display_name": "Python 3",
   "language": "python",
   "name": "python3"
  },
  "language_info": {
   "codemirror_mode": {
    "name": "ipython",
    "version": 3
   },
   "file_extension": ".py",
   "mimetype": "text/x-python",
   "name": "python",
   "nbconvert_exporter": "python",
   "pygments_lexer": "ipython3",
   "version": "3.6.4"
  }
 },
 "nbformat": 4,
 "nbformat_minor": 2
}
